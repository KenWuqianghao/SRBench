{
 "cells": [
  {
   "cell_type": "code",
   "execution_count": 1,
   "metadata": {},
   "outputs": [
    {
     "name": "stdout",
     "output_type": "stream",
     "text": [
      "Datasets in the black-box group with less than 5 features:\n",
      "- strogatz_lv1\n",
      "- strogatz_shearflow1\n",
      "- strogatz_predprey1\n",
      "- strogatz_bacres2\n",
      "- strogatz_barmag2\n",
      "- strogatz_predprey2\n",
      "- strogatz_barmag1\n",
      "- strogatz_vdp1\n",
      "- strogatz_glider1\n",
      "- strogatz_bacres1\n",
      "- strogatz_vdp2\n",
      "- strogatz_lv2\n",
      "- strogatz_glider2\n",
      "- strogatz_shearflow2\n"
     ]
    }
   ],
   "source": [
    "import csv\n",
    "from io import StringIO\n",
    "\n",
    "# read csv data\n",
    "with open('./docs/csv/datasets_info.csv', 'r') as file:\n",
    "    csv_data = file.read()\n",
    "    \n",
    "\n",
    "# Function to filter datasets\n",
    "def filter_datasets(csv_content):\n",
    "    filtered_datasets = []\n",
    "    csv_reader = csv.DictReader(StringIO(csv_content.strip()))\n",
    "    \n",
    "    for row in csv_reader:\n",
    "        if row['Group'] == 'strogatz' and int(row['nfeatures']) < 5:\n",
    "            filtered_datasets.append(row['name'])\n",
    "    \n",
    "    return filtered_datasets\n",
    "\n",
    "# Run the filter function\n",
    "result = filter_datasets(csv_data)\n",
    "\n",
    "# Print the results\n",
    "print(\"Datasets in the black-box group with less than 5 features:\")\n",
    "for dataset in result:\n",
    "    print(f\"- {dataset}\")"
   ]
  },
  {
   "cell_type": "code",
   "execution_count": 2,
   "metadata": {},
   "outputs": [
    {
     "name": "stdout",
     "output_type": "stream",
     "text": [
      "Dataset strogatz_lv1 copied to filtered_feynman folder\n",
      "Dataset strogatz_shearflow1 copied to filtered_feynman folder\n",
      "Dataset strogatz_predprey1 copied to filtered_feynman folder\n",
      "Dataset strogatz_bacres2 copied to filtered_feynman folder\n",
      "Dataset strogatz_barmag2 copied to filtered_feynman folder\n",
      "Dataset strogatz_predprey2 copied to filtered_feynman folder\n",
      "Dataset strogatz_barmag1 copied to filtered_feynman folder\n",
      "Dataset strogatz_vdp1 copied to filtered_feynman folder\n",
      "Dataset strogatz_glider1 copied to filtered_feynman folder\n",
      "Dataset strogatz_bacres1 copied to filtered_feynman folder\n",
      "Dataset strogatz_vdp2 copied to filtered_feynman folder\n",
      "Dataset strogatz_lv2 copied to filtered_feynman folder\n",
      "Dataset strogatz_glider2 copied to filtered_feynman folder\n",
      "Dataset strogatz_shearflow2 copied to filtered_feynman folder\n"
     ]
    }
   ],
   "source": [
    "# copy all folders with the name in results to another folder\n",
    "import os\n",
    "import shutil\n",
    "\n",
    "for dataset in result:\n",
    "    shutil.copytree(f\"./pmlb/datasets/{dataset}\", f\"./filtered_strogatz/{dataset}\")\n",
    "    print(f\"Dataset {dataset} copied to filtered_feynman folder\")"
   ]
  }
 ],
 "metadata": {
  "kernelspec": {
   "display_name": "Python 3",
   "language": "python",
   "name": "python3"
  },
  "language_info": {
   "codemirror_mode": {
    "name": "ipython",
    "version": 3
   },
   "file_extension": ".py",
   "mimetype": "text/x-python",
   "name": "python",
   "nbconvert_exporter": "python",
   "pygments_lexer": "ipython3",
   "version": "3.10.12"
  }
 },
 "nbformat": 4,
 "nbformat_minor": 2
}
